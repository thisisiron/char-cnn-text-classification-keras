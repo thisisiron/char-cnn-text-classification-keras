{
 "cells": [
  {
   "cell_type": "code",
   "execution_count": 1,
   "metadata": {},
   "outputs": [],
   "source": [
    "import sys\n",
    "import os\n",
    "import json\n",
    "\n",
    "import numpy as np\n",
    "import pandas as pd\n",
    "from bs4 import BeautifulSoup\n",
    "\n",
    "from sklearn.model_selection import train_test_split\n",
    "\n",
    "import tensorflow as tf\n",
    "from tensorflow import keras\n",
    "from tensorflow.python.keras.preprocessing.sequence import pad_sequences\n",
    "from tensorflow.python.keras.preprocessing.text import Tokenizer\n",
    "from tensorflow.python.keras.preprocessing import sequence\n",
    "from tensorflow.python.keras.utils import to_categorical\n",
    "from tensorflow.python.keras.layers import Input, Embedding, Activation, Flatten, Dense, Conv1D, MaxPooling1D, Dropout\n",
    "from tensorflow.python.keras.models import Model"
   ]
  },
  {
   "cell_type": "code",
   "execution_count": 2,
   "metadata": {},
   "outputs": [],
   "source": [
    "def preprocessing(review): \n",
    "    # 불용어 제거는 옵션으로 선택 가능하다.\n",
    "    \n",
    "    # 1. HTML 태그 제거\n",
    "    review_text = BeautifulSoup(review, \"html.parser\").get_text()\t\n",
    "\n",
    "    # 2. 대문자들을 소문자로 바꾸고 공백단위로 텍스트들 나눠서 리스트로 만든다.\n",
    "    words = review_text.lower().split()\n",
    "\n",
    "    return ' '.join(words)"
   ]
  },
  {
   "cell_type": "code",
   "execution_count": 3,
   "metadata": {},
   "outputs": [
    {
     "ename": "FileNotFoundError",
     "evalue": "[Errno 2] File b'./data_in/labeledTrainData.tsv' does not exist: b'./data_in/labeledTrainData.tsv'",
     "output_type": "error",
     "traceback": [
      "\u001b[1;31m---------------------------------------------------------------------------\u001b[0m",
      "\u001b[1;31mFileNotFoundError\u001b[0m                         Traceback (most recent call last)",
      "\u001b[1;32m<ipython-input-3-27bba19aff98>\u001b[0m in \u001b[0;36m<module>\u001b[1;34m\u001b[0m\n\u001b[0;32m      1\u001b[0m \u001b[0mDATA_IN_PATH\u001b[0m \u001b[1;33m=\u001b[0m \u001b[1;34m'./data_in/'\u001b[0m\u001b[1;33m\u001b[0m\u001b[1;33m\u001b[0m\u001b[0m\n\u001b[0;32m      2\u001b[0m \u001b[1;33m\u001b[0m\u001b[0m\n\u001b[1;32m----> 3\u001b[1;33m \u001b[0mtrain_df\u001b[0m \u001b[1;33m=\u001b[0m \u001b[0mpd\u001b[0m\u001b[1;33m.\u001b[0m\u001b[0mread_csv\u001b[0m\u001b[1;33m(\u001b[0m \u001b[0mDATA_IN_PATH\u001b[0m \u001b[1;33m+\u001b[0m \u001b[1;34m'labeledTrainData.tsv'\u001b[0m\u001b[1;33m,\u001b[0m \u001b[0mheader\u001b[0m \u001b[1;33m=\u001b[0m \u001b[1;36m0\u001b[0m\u001b[1;33m,\u001b[0m \u001b[0mdelimiter\u001b[0m \u001b[1;33m=\u001b[0m \u001b[1;34m'\\t'\u001b[0m\u001b[1;33m,\u001b[0m \u001b[0mquoting\u001b[0m \u001b[1;33m=\u001b[0m \u001b[1;36m3\u001b[0m\u001b[1;33m)\u001b[0m\u001b[1;33m\u001b[0m\u001b[1;33m\u001b[0m\u001b[0m\n\u001b[0m\u001b[0;32m      4\u001b[0m \u001b[0mreviews\u001b[0m \u001b[1;33m=\u001b[0m \u001b[1;33m[\u001b[0m\u001b[1;33m]\u001b[0m\u001b[1;33m\u001b[0m\u001b[1;33m\u001b[0m\u001b[0m\n\u001b[0;32m      5\u001b[0m \u001b[1;32mfor\u001b[0m \u001b[0mreview\u001b[0m \u001b[1;32min\u001b[0m \u001b[0mtrain_df\u001b[0m\u001b[1;33m[\u001b[0m\u001b[1;34m'review'\u001b[0m\u001b[1;33m]\u001b[0m\u001b[1;33m:\u001b[0m\u001b[1;33m\u001b[0m\u001b[1;33m\u001b[0m\u001b[0m\n",
      "\u001b[1;32mc:\\users\\solugate\\anaconda3\\envs\\nlp\\lib\\site-packages\\pandas\\io\\parsers.py\u001b[0m in \u001b[0;36mparser_f\u001b[1;34m(filepath_or_buffer, sep, delimiter, header, names, index_col, usecols, squeeze, prefix, mangle_dupe_cols, dtype, engine, converters, true_values, false_values, skipinitialspace, skiprows, skipfooter, nrows, na_values, keep_default_na, na_filter, verbose, skip_blank_lines, parse_dates, infer_datetime_format, keep_date_col, date_parser, dayfirst, iterator, chunksize, compression, thousands, decimal, lineterminator, quotechar, quoting, doublequote, escapechar, comment, encoding, dialect, tupleize_cols, error_bad_lines, warn_bad_lines, delim_whitespace, low_memory, memory_map, float_precision)\u001b[0m\n\u001b[0;32m    700\u001b[0m                     skip_blank_lines=skip_blank_lines)\n\u001b[0;32m    701\u001b[0m \u001b[1;33m\u001b[0m\u001b[0m\n\u001b[1;32m--> 702\u001b[1;33m         \u001b[1;32mreturn\u001b[0m \u001b[0m_read\u001b[0m\u001b[1;33m(\u001b[0m\u001b[0mfilepath_or_buffer\u001b[0m\u001b[1;33m,\u001b[0m \u001b[0mkwds\u001b[0m\u001b[1;33m)\u001b[0m\u001b[1;33m\u001b[0m\u001b[1;33m\u001b[0m\u001b[0m\n\u001b[0m\u001b[0;32m    703\u001b[0m \u001b[1;33m\u001b[0m\u001b[0m\n\u001b[0;32m    704\u001b[0m     \u001b[0mparser_f\u001b[0m\u001b[1;33m.\u001b[0m\u001b[0m__name__\u001b[0m \u001b[1;33m=\u001b[0m \u001b[0mname\u001b[0m\u001b[1;33m\u001b[0m\u001b[1;33m\u001b[0m\u001b[0m\n",
      "\u001b[1;32mc:\\users\\solugate\\anaconda3\\envs\\nlp\\lib\\site-packages\\pandas\\io\\parsers.py\u001b[0m in \u001b[0;36m_read\u001b[1;34m(filepath_or_buffer, kwds)\u001b[0m\n\u001b[0;32m    427\u001b[0m \u001b[1;33m\u001b[0m\u001b[0m\n\u001b[0;32m    428\u001b[0m     \u001b[1;31m# Create the parser.\u001b[0m\u001b[1;33m\u001b[0m\u001b[1;33m\u001b[0m\u001b[1;33m\u001b[0m\u001b[0m\n\u001b[1;32m--> 429\u001b[1;33m     \u001b[0mparser\u001b[0m \u001b[1;33m=\u001b[0m \u001b[0mTextFileReader\u001b[0m\u001b[1;33m(\u001b[0m\u001b[0mfilepath_or_buffer\u001b[0m\u001b[1;33m,\u001b[0m \u001b[1;33m**\u001b[0m\u001b[0mkwds\u001b[0m\u001b[1;33m)\u001b[0m\u001b[1;33m\u001b[0m\u001b[1;33m\u001b[0m\u001b[0m\n\u001b[0m\u001b[0;32m    430\u001b[0m \u001b[1;33m\u001b[0m\u001b[0m\n\u001b[0;32m    431\u001b[0m     \u001b[1;32mif\u001b[0m \u001b[0mchunksize\u001b[0m \u001b[1;32mor\u001b[0m \u001b[0miterator\u001b[0m\u001b[1;33m:\u001b[0m\u001b[1;33m\u001b[0m\u001b[1;33m\u001b[0m\u001b[0m\n",
      "\u001b[1;32mc:\\users\\solugate\\anaconda3\\envs\\nlp\\lib\\site-packages\\pandas\\io\\parsers.py\u001b[0m in \u001b[0;36m__init__\u001b[1;34m(self, f, engine, **kwds)\u001b[0m\n\u001b[0;32m    893\u001b[0m             \u001b[0mself\u001b[0m\u001b[1;33m.\u001b[0m\u001b[0moptions\u001b[0m\u001b[1;33m[\u001b[0m\u001b[1;34m'has_index_names'\u001b[0m\u001b[1;33m]\u001b[0m \u001b[1;33m=\u001b[0m \u001b[0mkwds\u001b[0m\u001b[1;33m[\u001b[0m\u001b[1;34m'has_index_names'\u001b[0m\u001b[1;33m]\u001b[0m\u001b[1;33m\u001b[0m\u001b[1;33m\u001b[0m\u001b[0m\n\u001b[0;32m    894\u001b[0m \u001b[1;33m\u001b[0m\u001b[0m\n\u001b[1;32m--> 895\u001b[1;33m         \u001b[0mself\u001b[0m\u001b[1;33m.\u001b[0m\u001b[0m_make_engine\u001b[0m\u001b[1;33m(\u001b[0m\u001b[0mself\u001b[0m\u001b[1;33m.\u001b[0m\u001b[0mengine\u001b[0m\u001b[1;33m)\u001b[0m\u001b[1;33m\u001b[0m\u001b[1;33m\u001b[0m\u001b[0m\n\u001b[0m\u001b[0;32m    896\u001b[0m \u001b[1;33m\u001b[0m\u001b[0m\n\u001b[0;32m    897\u001b[0m     \u001b[1;32mdef\u001b[0m \u001b[0mclose\u001b[0m\u001b[1;33m(\u001b[0m\u001b[0mself\u001b[0m\u001b[1;33m)\u001b[0m\u001b[1;33m:\u001b[0m\u001b[1;33m\u001b[0m\u001b[1;33m\u001b[0m\u001b[0m\n",
      "\u001b[1;32mc:\\users\\solugate\\anaconda3\\envs\\nlp\\lib\\site-packages\\pandas\\io\\parsers.py\u001b[0m in \u001b[0;36m_make_engine\u001b[1;34m(self, engine)\u001b[0m\n\u001b[0;32m   1120\u001b[0m     \u001b[1;32mdef\u001b[0m \u001b[0m_make_engine\u001b[0m\u001b[1;33m(\u001b[0m\u001b[0mself\u001b[0m\u001b[1;33m,\u001b[0m \u001b[0mengine\u001b[0m\u001b[1;33m=\u001b[0m\u001b[1;34m'c'\u001b[0m\u001b[1;33m)\u001b[0m\u001b[1;33m:\u001b[0m\u001b[1;33m\u001b[0m\u001b[1;33m\u001b[0m\u001b[0m\n\u001b[0;32m   1121\u001b[0m         \u001b[1;32mif\u001b[0m \u001b[0mengine\u001b[0m \u001b[1;33m==\u001b[0m \u001b[1;34m'c'\u001b[0m\u001b[1;33m:\u001b[0m\u001b[1;33m\u001b[0m\u001b[1;33m\u001b[0m\u001b[0m\n\u001b[1;32m-> 1122\u001b[1;33m             \u001b[0mself\u001b[0m\u001b[1;33m.\u001b[0m\u001b[0m_engine\u001b[0m \u001b[1;33m=\u001b[0m \u001b[0mCParserWrapper\u001b[0m\u001b[1;33m(\u001b[0m\u001b[0mself\u001b[0m\u001b[1;33m.\u001b[0m\u001b[0mf\u001b[0m\u001b[1;33m,\u001b[0m \u001b[1;33m**\u001b[0m\u001b[0mself\u001b[0m\u001b[1;33m.\u001b[0m\u001b[0moptions\u001b[0m\u001b[1;33m)\u001b[0m\u001b[1;33m\u001b[0m\u001b[1;33m\u001b[0m\u001b[0m\n\u001b[0m\u001b[0;32m   1123\u001b[0m         \u001b[1;32melse\u001b[0m\u001b[1;33m:\u001b[0m\u001b[1;33m\u001b[0m\u001b[1;33m\u001b[0m\u001b[0m\n\u001b[0;32m   1124\u001b[0m             \u001b[1;32mif\u001b[0m \u001b[0mengine\u001b[0m \u001b[1;33m==\u001b[0m \u001b[1;34m'python'\u001b[0m\u001b[1;33m:\u001b[0m\u001b[1;33m\u001b[0m\u001b[1;33m\u001b[0m\u001b[0m\n",
      "\u001b[1;32mc:\\users\\solugate\\anaconda3\\envs\\nlp\\lib\\site-packages\\pandas\\io\\parsers.py\u001b[0m in \u001b[0;36m__init__\u001b[1;34m(self, src, **kwds)\u001b[0m\n\u001b[0;32m   1851\u001b[0m         \u001b[0mkwds\u001b[0m\u001b[1;33m[\u001b[0m\u001b[1;34m'usecols'\u001b[0m\u001b[1;33m]\u001b[0m \u001b[1;33m=\u001b[0m \u001b[0mself\u001b[0m\u001b[1;33m.\u001b[0m\u001b[0musecols\u001b[0m\u001b[1;33m\u001b[0m\u001b[1;33m\u001b[0m\u001b[0m\n\u001b[0;32m   1852\u001b[0m \u001b[1;33m\u001b[0m\u001b[0m\n\u001b[1;32m-> 1853\u001b[1;33m         \u001b[0mself\u001b[0m\u001b[1;33m.\u001b[0m\u001b[0m_reader\u001b[0m \u001b[1;33m=\u001b[0m \u001b[0mparsers\u001b[0m\u001b[1;33m.\u001b[0m\u001b[0mTextReader\u001b[0m\u001b[1;33m(\u001b[0m\u001b[0msrc\u001b[0m\u001b[1;33m,\u001b[0m \u001b[1;33m**\u001b[0m\u001b[0mkwds\u001b[0m\u001b[1;33m)\u001b[0m\u001b[1;33m\u001b[0m\u001b[1;33m\u001b[0m\u001b[0m\n\u001b[0m\u001b[0;32m   1854\u001b[0m         \u001b[0mself\u001b[0m\u001b[1;33m.\u001b[0m\u001b[0munnamed_cols\u001b[0m \u001b[1;33m=\u001b[0m \u001b[0mself\u001b[0m\u001b[1;33m.\u001b[0m\u001b[0m_reader\u001b[0m\u001b[1;33m.\u001b[0m\u001b[0munnamed_cols\u001b[0m\u001b[1;33m\u001b[0m\u001b[1;33m\u001b[0m\u001b[0m\n\u001b[0;32m   1855\u001b[0m \u001b[1;33m\u001b[0m\u001b[0m\n",
      "\u001b[1;32mpandas\\_libs\\parsers.pyx\u001b[0m in \u001b[0;36mpandas._libs.parsers.TextReader.__cinit__\u001b[1;34m()\u001b[0m\n",
      "\u001b[1;32mpandas\\_libs\\parsers.pyx\u001b[0m in \u001b[0;36mpandas._libs.parsers.TextReader._setup_parser_source\u001b[1;34m()\u001b[0m\n",
      "\u001b[1;31mFileNotFoundError\u001b[0m: [Errno 2] File b'./data_in/labeledTrainData.tsv' does not exist: b'./data_in/labeledTrainData.tsv'"
     ]
    }
   ],
   "source": [
    "DATA_IN_PATH = './data_in/'\n",
    "\n",
    "train_df = pd.read_csv( DATA_IN_PATH + 'labeledTrainData.tsv', header = 0, delimiter = '\\t', quoting = 3)\n",
    "reviews = []\n",
    "for review in train_df['review']:\n",
    "    reviews.append(preprocessing(review))"
   ]
  },
  {
   "cell_type": "code",
   "execution_count": null,
   "metadata": {},
   "outputs": [],
   "source": [
    "# Comparison between original data and clean data\n",
    "print(train_df['review'][0])\n",
    "print()\n",
    "print(reviews[0])"
   ]
  },
  {
   "cell_type": "code",
   "execution_count": null,
   "metadata": {},
   "outputs": [],
   "source": [
    "train_texts = np.array(reviews)"
   ]
  },
  {
   "cell_type": "code",
   "execution_count": null,
   "metadata": {},
   "outputs": [],
   "source": [
    "tk = Tokenizer(num_words=None, char_level=True, oov_token='UNK')\n",
    "tk.fit_on_texts(train_texts)"
   ]
  },
  {
   "cell_type": "code",
   "execution_count": null,
   "metadata": {
    "scrolled": true
   },
   "outputs": [],
   "source": [
    "tk.get_config()"
   ]
  },
  {
   "cell_type": "code",
   "execution_count": null,
   "metadata": {},
   "outputs": [],
   "source": [
    "# Make Character Dict\n",
    "alphabet = \"abcdefghijklmnopqrstuvwxyz0123456789,;.!?:'\\\"/\\\\|_@#$%^&*~`+-=<>()[]{}\"\n",
    "char_dict = {}\n",
    "for i, char in enumerate(alphabet):\n",
    "    char_dict[char] = i + 1\n",
    "tk.word_index = char_dict.copy()\n",
    "tk.word_index[tk.oov_token] = len(char_dict) + 1"
   ]
  },
  {
   "cell_type": "code",
   "execution_count": null,
   "metadata": {},
   "outputs": [],
   "source": [
    "# Make Train data\n",
    "train_sequence = tk.texts_to_sequences(train_texts)\n",
    "train_sequence_pad = pad_sequences(train_sequence, maxlen=1014, padding='post')\n",
    "train_data = np.array(train_sequence_pad, dtype='float32')"
   ]
  },
  {
   "cell_type": "code",
   "execution_count": null,
   "metadata": {},
   "outputs": [],
   "source": [
    "train_sequence"
   ]
  },
  {
   "cell_type": "code",
   "execution_count": 10,
   "metadata": {},
   "outputs": [],
   "source": [
    "# Make label data\n",
    "train_label_np = train_df['sentiment'].values\n",
    "train_label_one_hot = to_categorical(train_label_np)"
   ]
  },
  {
   "cell_type": "code",
   "execution_count": 12,
   "metadata": {},
   "outputs": [],
   "source": [
    "# Parameter\n",
    "input_size = 1014\n",
    "VALID_SPLIT = 0.1\n",
    "dropout_prob = 0.5\n",
    "embedding_size = 69\n",
    "num_of_classes = len(train_label_one_hot[0])\n",
    "characters_size = len(tk.word_index)"
   ]
  },
  {
   "cell_type": "code",
   "execution_count": 13,
   "metadata": {},
   "outputs": [],
   "source": [
    "train_input, val_input, train_label, val_label = train_test_split(train_data, train_label_one_hot, test_size=VALID_SPLIT, shuffle=True)"
   ]
  },
  {
   "cell_type": "code",
   "execution_count": 14,
   "metadata": {},
   "outputs": [
    {
     "data": {
      "text/plain": [
       "array([[ 9., 12., 13., ..., 25., 39., 44.],\n",
       "       [18., 15., 14., ...,  1., 20., 44.],\n",
       "       [ 7., 69.,  3., ..., 19., 39., 44.],\n",
       "       ...,\n",
       "       [15., 18., 69., ...,  3., 59., 44.],\n",
       "       [44., 20.,  8., ...,  0.,  0.,  0.],\n",
       "       [44.,  9., 69., ...,  0.,  0.,  0.]], dtype=float32)"
      ]
     },
     "execution_count": 14,
     "metadata": {},
     "output_type": "execute_result"
    }
   ],
   "source": [
    "train_input"
   ]
  },
  {
   "cell_type": "code",
   "execution_count": 15,
   "metadata": {},
   "outputs": [],
   "source": [
    "# Embedding weights\n",
    "embedding_weights = []  # (70, 69)\n",
    "embedding_weights.append(np.zeros(characters_size))  # (0, 69)\n",
    "for char, i in tk.word_index.items():  # from index 1 to 69\n",
    "    onehot = np.zeros(characters_size)\n",
    "    onehot[i - 1] = 1\n",
    "    embedding_weights.append(onehot)\n",
    "embedding_weights = np.array(embedding_weights)"
   ]
  },
  {
   "cell_type": "code",
   "execution_count": 16,
   "metadata": {},
   "outputs": [],
   "source": [
    "# Embedding layer Initialization\n",
    "embedding_layer = Embedding(characters_size + 1,\n",
    "                            embedding_size,\n",
    "                            input_length=input_size,\n",
    "                            weights=[embedding_weights])"
   ]
  },
  {
   "cell_type": "code",
   "execution_count": 17,
   "metadata": {
    "scrolled": false
   },
   "outputs": [
    {
     "name": "stdout",
     "output_type": "stream",
     "text": [
      "WARNING:tensorflow:From c:\\users\\solugate\\anaconda3\\envs\\nlp\\lib\\site-packages\\tensorflow\\python\\ops\\resource_variable_ops.py:435: colocate_with (from tensorflow.python.framework.ops) is deprecated and will be removed in a future version.\n",
      "Instructions for updating:\n",
      "Colocations handled automatically by placer.\n",
      "WARNING:tensorflow:From c:\\users\\solugate\\anaconda3\\envs\\nlp\\lib\\site-packages\\tensorflow\\python\\keras\\layers\\core.py:143: calling dropout (from tensorflow.python.ops.nn_ops) with keep_prob is deprecated and will be removed in a future version.\n",
      "Instructions for updating:\n",
      "Please use `rate` instead of `keep_prob`. Rate should be set to `rate = 1 - keep_prob`.\n"
     ]
    }
   ],
   "source": [
    "# Input\n",
    "inputs = Input(shape=(input_size,), name='input', dtype='int64')  # shape=(?, 1014)\n",
    "\n",
    "# Embedding\n",
    "x = embedding_layer(inputs)\n",
    "\n",
    "# Convolutional Layer\n",
    "\n",
    "#-------Layer 1-------#\n",
    "x = Conv1D(256, 7)(x)\n",
    "x = Activation('relu')(x)\n",
    "x = MaxPooling1D(pool_size=3)(x)\n",
    "\n",
    "#-------Layer 2-------#\n",
    "x = Conv1D(256, 7)(x)\n",
    "x = Activation('relu')(x)\n",
    "x = MaxPooling1D(pool_size=3)(x)\n",
    "\n",
    "#-------Layer 3-------#\n",
    "x = Conv1D(256, 7)(x)\n",
    "x = Activation('relu')(x)\n",
    "\n",
    "#-------Layer 4-------#\n",
    "x = Conv1D(256, 7)(x)\n",
    "x = Activation('relu')(x)\n",
    "\n",
    "#-------Layer 5-------#\n",
    "x = Conv1D(256, 7)(x)\n",
    "x = Activation('relu')(x)\n",
    "\n",
    "#-------Layer 6-------#\n",
    "x = Conv1D(256, 7)(x)\n",
    "x = Activation('relu')(x)\n",
    "x = MaxPooling1D(pool_size=3)(x)\n",
    "\n",
    "x = Flatten()(x)  # (None, 8704)\n",
    "\n",
    "# Fully connected layers\n",
    "\n",
    "#-------Layer 7-------#\n",
    "x = Dense(1024)(x)\n",
    "x = Activation('relu')(x)\n",
    "x = Dropout(dropout_prob)(x)\n",
    "\n",
    "#-------Layer 8-------#\n",
    "x = Dense(1024)(x)\n",
    "x = Activation('relu')(x)\n",
    "x = Dropout(dropout_prob)(x)\n",
    "\n",
    "#-------Layer 9-------#\n",
    "outputs = Dense(num_of_classes, activation='softmax')(x)\n",
    "\n",
    "# Build model\n",
    "model = Model(inputs=inputs, outputs=outputs)\n",
    "model.compile(optimizer='sgd', loss='categorical_crossentropy', metrics=['accuracy'])  "
   ]
  },
  {
   "cell_type": "code",
   "execution_count": 18,
   "metadata": {},
   "outputs": [
    {
     "name": "stdout",
     "output_type": "stream",
     "text": [
      "_________________________________________________________________\n",
      "Layer (type)                 Output Shape              Param #   \n",
      "=================================================================\n",
      "input (InputLayer)           (None, 1014)              0         \n",
      "_________________________________________________________________\n",
      "embedding (Embedding)        (None, 1014, 69)          4830      \n",
      "_________________________________________________________________\n",
      "conv1d (Conv1D)              (None, 1008, 256)         123904    \n",
      "_________________________________________________________________\n",
      "activation (Activation)      (None, 1008, 256)         0         \n",
      "_________________________________________________________________\n",
      "max_pooling1d (MaxPooling1D) (None, 336, 256)          0         \n",
      "_________________________________________________________________\n",
      "conv1d_1 (Conv1D)            (None, 330, 256)          459008    \n",
      "_________________________________________________________________\n",
      "activation_1 (Activation)    (None, 330, 256)          0         \n",
      "_________________________________________________________________\n",
      "max_pooling1d_1 (MaxPooling1 (None, 110, 256)          0         \n",
      "_________________________________________________________________\n",
      "conv1d_2 (Conv1D)            (None, 104, 256)          459008    \n",
      "_________________________________________________________________\n",
      "activation_2 (Activation)    (None, 104, 256)          0         \n",
      "_________________________________________________________________\n",
      "conv1d_3 (Conv1D)            (None, 98, 256)           459008    \n",
      "_________________________________________________________________\n",
      "activation_3 (Activation)    (None, 98, 256)           0         \n",
      "_________________________________________________________________\n",
      "conv1d_4 (Conv1D)            (None, 92, 256)           459008    \n",
      "_________________________________________________________________\n",
      "activation_4 (Activation)    (None, 92, 256)           0         \n",
      "_________________________________________________________________\n",
      "conv1d_5 (Conv1D)            (None, 86, 256)           459008    \n",
      "_________________________________________________________________\n",
      "activation_5 (Activation)    (None, 86, 256)           0         \n",
      "_________________________________________________________________\n",
      "max_pooling1d_2 (MaxPooling1 (None, 28, 256)           0         \n",
      "_________________________________________________________________\n",
      "flatten (Flatten)            (None, 7168)              0         \n",
      "_________________________________________________________________\n",
      "dense (Dense)                (None, 1024)              7341056   \n",
      "_________________________________________________________________\n",
      "activation_6 (Activation)    (None, 1024)              0         \n",
      "_________________________________________________________________\n",
      "dropout (Dropout)            (None, 1024)              0         \n",
      "_________________________________________________________________\n",
      "dense_1 (Dense)              (None, 1024)              1049600   \n",
      "_________________________________________________________________\n",
      "activation_7 (Activation)    (None, 1024)              0         \n",
      "_________________________________________________________________\n",
      "dropout_1 (Dropout)          (None, 1024)              0         \n",
      "_________________________________________________________________\n",
      "dense_2 (Dense)              (None, 2)                 2050      \n",
      "=================================================================\n",
      "Total params: 10,816,480\n",
      "Trainable params: 10,816,480\n",
      "Non-trainable params: 0\n",
      "_________________________________________________________________\n"
     ]
    }
   ],
   "source": [
    "model.summary()"
   ]
  },
  {
   "cell_type": "code",
   "execution_count": 19,
   "metadata": {
    "scrolled": true
   },
   "outputs": [
    {
     "name": "stdout",
     "output_type": "stream",
     "text": [
      "INFO:tensorflow:Using default config.\n",
      "WARNING:tensorflow:Using temporary folder as model directory: C:\\Users\\solugate\\AppData\\Local\\Temp\\tmpwsoa_3ns\n",
      "INFO:tensorflow:Using the Keras model provided.\n",
      "WARNING:tensorflow:From c:\\users\\solugate\\anaconda3\\envs\\nlp\\lib\\site-packages\\tensorflow\\python\\ops\\math_ops.py:3066: to_int32 (from tensorflow.python.ops.math_ops) is deprecated and will be removed in a future version.\n",
      "Instructions for updating:\n",
      "Use tf.cast instead.\n",
      "INFO:tensorflow:Using config: {'_model_dir': 'C:\\\\Users\\\\solugate\\\\AppData\\\\Local\\\\Temp\\\\tmpwsoa_3ns', '_tf_random_seed': None, '_save_summary_steps': 100, '_save_checkpoints_steps': None, '_save_checkpoints_secs': 600, '_session_config': allow_soft_placement: true\n",
      "graph_options {\n",
      "  rewrite_options {\n",
      "    meta_optimizer_iterations: ONE\n",
      "  }\n",
      "}\n",
      ", '_keep_checkpoint_max': 5, '_keep_checkpoint_every_n_hours': 10000, '_log_step_count_steps': 100, '_train_distribute': None, '_device_fn': None, '_protocol': None, '_eval_distribute': None, '_experimental_distribute': None, '_service': None, '_cluster_spec': <tensorflow.python.training.server_lib.ClusterSpec object at 0x000002240C3BA6D8>, '_task_type': 'worker', '_task_id': 0, '_global_id_in_cluster': 0, '_master': '', '_evaluation_master': '', '_is_chief': True, '_num_ps_replicas': 0, '_num_worker_replicas': 1}\n"
     ]
    }
   ],
   "source": [
    "char_cnn = tf.keras.estimator.model_to_estimator(keras_model=model)\n",
    "\n",
    "train_input_fn = tf.estimator.inputs.numpy_input_fn(\n",
    "    x={'input': train_input},\n",
    "    y=train_label,\n",
    "    num_epochs=10,\n",
    "    shuffle=False\n",
    ")\n",
    "\n"
   ]
  },
  {
   "cell_type": "code",
   "execution_count": 22,
   "metadata": {},
   "outputs": [],
   "source": [
    "val_input_fn = tf.estimator.inputs.numpy_input_fn(\n",
    "    x={'input': val_input},\n",
    "    y=val_label,\n",
    "    shuffle=False\n",
    ")"
   ]
  },
  {
   "cell_type": "code",
   "execution_count": 20,
   "metadata": {
    "scrolled": true
   },
   "outputs": [
    {
     "name": "stdout",
     "output_type": "stream",
     "text": [
      "WARNING:tensorflow:From c:\\users\\solugate\\anaconda3\\envs\\nlp\\lib\\site-packages\\tensorflow_estimator\\python\\estimator\\inputs\\queues\\feeding_queue_runner.py:62: QueueRunner.__init__ (from tensorflow.python.training.queue_runner_impl) is deprecated and will be removed in a future version.\n",
      "Instructions for updating:\n",
      "To construct input pipelines, use the `tf.data` module.\n",
      "WARNING:tensorflow:From c:\\users\\solugate\\anaconda3\\envs\\nlp\\lib\\site-packages\\tensorflow_estimator\\python\\estimator\\inputs\\queues\\feeding_functions.py:500: add_queue_runner (from tensorflow.python.training.queue_runner_impl) is deprecated and will be removed in a future version.\n",
      "Instructions for updating:\n",
      "To construct input pipelines, use the `tf.data` module.\n",
      "INFO:tensorflow:Calling model_fn.\n",
      "INFO:tensorflow:Done calling model_fn.\n",
      "INFO:tensorflow:Warm-starting with WarmStartSettings: WarmStartSettings(ckpt_to_initialize_from='C:\\\\Users\\\\solugate\\\\AppData\\\\Local\\\\Temp\\\\tmpwsoa_3ns\\\\keras\\\\keras_model.ckpt', vars_to_warm_start='.*', var_name_to_vocab_info={}, var_name_to_prev_var_name={})\n",
      "INFO:tensorflow:Warm-starting from: ('C:\\\\Users\\\\solugate\\\\AppData\\\\Local\\\\Temp\\\\tmpwsoa_3ns\\\\keras\\\\keras_model.ckpt',)\n",
      "INFO:tensorflow:Warm-starting variable: embedding/embeddings; prev_var_name: Unchanged\n",
      "INFO:tensorflow:Warm-starting variable: conv1d/kernel; prev_var_name: Unchanged\n",
      "INFO:tensorflow:Warm-starting variable: conv1d/bias; prev_var_name: Unchanged\n",
      "INFO:tensorflow:Warm-starting variable: conv1d_1/kernel; prev_var_name: Unchanged\n",
      "INFO:tensorflow:Warm-starting variable: conv1d_1/bias; prev_var_name: Unchanged\n",
      "INFO:tensorflow:Warm-starting variable: conv1d_2/kernel; prev_var_name: Unchanged\n",
      "INFO:tensorflow:Warm-starting variable: conv1d_2/bias; prev_var_name: Unchanged\n",
      "INFO:tensorflow:Warm-starting variable: conv1d_3/kernel; prev_var_name: Unchanged\n",
      "INFO:tensorflow:Warm-starting variable: conv1d_3/bias; prev_var_name: Unchanged\n",
      "INFO:tensorflow:Warm-starting variable: conv1d_4/kernel; prev_var_name: Unchanged\n",
      "INFO:tensorflow:Warm-starting variable: conv1d_4/bias; prev_var_name: Unchanged\n",
      "INFO:tensorflow:Warm-starting variable: conv1d_5/kernel; prev_var_name: Unchanged\n",
      "INFO:tensorflow:Warm-starting variable: conv1d_5/bias; prev_var_name: Unchanged\n",
      "INFO:tensorflow:Warm-starting variable: dense/kernel; prev_var_name: Unchanged\n",
      "INFO:tensorflow:Warm-starting variable: dense/bias; prev_var_name: Unchanged\n",
      "INFO:tensorflow:Warm-starting variable: dense_1/kernel; prev_var_name: Unchanged\n",
      "INFO:tensorflow:Warm-starting variable: dense_1/bias; prev_var_name: Unchanged\n",
      "INFO:tensorflow:Warm-starting variable: dense_2/kernel; prev_var_name: Unchanged\n",
      "INFO:tensorflow:Warm-starting variable: dense_2/bias; prev_var_name: Unchanged\n",
      "INFO:tensorflow:Warm-starting variable: SGD/iterations; prev_var_name: Unchanged\n",
      "INFO:tensorflow:Warm-starting variable: SGD/lr; prev_var_name: Unchanged\n",
      "INFO:tensorflow:Warm-starting variable: SGD/momentum; prev_var_name: Unchanged\n",
      "INFO:tensorflow:Warm-starting variable: SGD/decay; prev_var_name: Unchanged\n",
      "INFO:tensorflow:Warm-starting variable: training/SGD/Variable; prev_var_name: Unchanged\n",
      "INFO:tensorflow:Warm-starting variable: training/SGD/Variable_1; prev_var_name: Unchanged\n",
      "INFO:tensorflow:Warm-starting variable: training/SGD/Variable_2; prev_var_name: Unchanged\n",
      "INFO:tensorflow:Warm-starting variable: training/SGD/Variable_3; prev_var_name: Unchanged\n",
      "INFO:tensorflow:Warm-starting variable: training/SGD/Variable_4; prev_var_name: Unchanged\n",
      "INFO:tensorflow:Warm-starting variable: training/SGD/Variable_5; prev_var_name: Unchanged\n",
      "INFO:tensorflow:Warm-starting variable: training/SGD/Variable_6; prev_var_name: Unchanged\n",
      "INFO:tensorflow:Warm-starting variable: training/SGD/Variable_7; prev_var_name: Unchanged\n",
      "INFO:tensorflow:Warm-starting variable: training/SGD/Variable_8; prev_var_name: Unchanged\n",
      "INFO:tensorflow:Warm-starting variable: training/SGD/Variable_9; prev_var_name: Unchanged\n",
      "INFO:tensorflow:Warm-starting variable: training/SGD/Variable_10; prev_var_name: Unchanged\n",
      "INFO:tensorflow:Warm-starting variable: training/SGD/Variable_11; prev_var_name: Unchanged\n",
      "INFO:tensorflow:Warm-starting variable: training/SGD/Variable_12; prev_var_name: Unchanged\n",
      "INFO:tensorflow:Warm-starting variable: training/SGD/Variable_13; prev_var_name: Unchanged\n",
      "INFO:tensorflow:Warm-starting variable: training/SGD/Variable_14; prev_var_name: Unchanged\n",
      "INFO:tensorflow:Warm-starting variable: training/SGD/Variable_15; prev_var_name: Unchanged\n",
      "INFO:tensorflow:Warm-starting variable: training/SGD/Variable_16; prev_var_name: Unchanged\n",
      "INFO:tensorflow:Warm-starting variable: training/SGD/Variable_17; prev_var_name: Unchanged\n",
      "INFO:tensorflow:Warm-starting variable: training/SGD/Variable_18; prev_var_name: Unchanged\n",
      "INFO:tensorflow:Create CheckpointSaverHook.\n",
      "INFO:tensorflow:Graph was finalized.\n",
      "INFO:tensorflow:Running local_init_op.\n",
      "INFO:tensorflow:Done running local_init_op.\n",
      "WARNING:tensorflow:From c:\\users\\solugate\\anaconda3\\envs\\nlp\\lib\\site-packages\\tensorflow\\python\\training\\monitored_session.py:809: start_queue_runners (from tensorflow.python.training.queue_runner_impl) is deprecated and will be removed in a future version.\n",
      "Instructions for updating:\n",
      "To construct input pipelines, use the `tf.data` module.\n",
      "INFO:tensorflow:Saving checkpoints for 0 into C:\\Users\\solugate\\AppData\\Local\\Temp\\tmpwsoa_3ns\\model.ckpt.\n",
      "INFO:tensorflow:loss = 0.6938251, step = 1\n",
      "INFO:tensorflow:global_step/sec: 1.03065\n",
      "INFO:tensorflow:loss = 0.69565165, step = 101 (97.026 sec)\n",
      "INFO:tensorflow:global_step/sec: 1.03767\n",
      "INFO:tensorflow:loss = 0.6932143, step = 201 (96.368 sec)\n",
      "INFO:tensorflow:global_step/sec: 1.03791\n",
      "INFO:tensorflow:loss = 0.69736934, step = 301 (96.347 sec)\n",
      "INFO:tensorflow:global_step/sec: 1.03744\n",
      "INFO:tensorflow:loss = 0.69127333, step = 401 (96.392 sec)\n",
      "INFO:tensorflow:global_step/sec: 1.0375\n",
      "INFO:tensorflow:loss = 0.6942574, step = 501 (96.387 sec)\n",
      "INFO:tensorflow:global_step/sec: 1.03742\n",
      "INFO:tensorflow:loss = 0.6936984, step = 601 (96.392 sec)\n",
      "INFO:tensorflow:Saving checkpoints for 618 into C:\\Users\\solugate\\AppData\\Local\\Temp\\tmpwsoa_3ns\\model.ckpt.\n",
      "INFO:tensorflow:global_step/sec: 1.02794\n",
      "INFO:tensorflow:loss = 0.69199353, step = 701 (97.283 sec)\n",
      "INFO:tensorflow:global_step/sec: 1.03699\n",
      "INFO:tensorflow:loss = 0.6895367, step = 801 (96.446 sec)\n",
      "INFO:tensorflow:global_step/sec: 1.03767\n",
      "INFO:tensorflow:loss = 0.6889093, step = 901 (96.354 sec)\n",
      "INFO:tensorflow:global_step/sec: 1.03762\n",
      "INFO:tensorflow:loss = 0.69640285, step = 1001 (96.374 sec)\n",
      "INFO:tensorflow:global_step/sec: 1.03785\n",
      "INFO:tensorflow:loss = 0.6930328, step = 1101 (96.353 sec)\n",
      "INFO:tensorflow:global_step/sec: 1.03804\n",
      "INFO:tensorflow:loss = 0.6928394, step = 1201 (96.335 sec)\n",
      "INFO:tensorflow:Saving checkpoints for 1240 into C:\\Users\\solugate\\AppData\\Local\\Temp\\tmpwsoa_3ns\\model.ckpt.\n",
      "INFO:tensorflow:global_step/sec: 1.03298\n",
      "INFO:tensorflow:loss = 0.6948973, step = 1301 (96.807 sec)\n",
      "INFO:tensorflow:global_step/sec: 1.03785\n",
      "INFO:tensorflow:loss = 0.6920607, step = 1401 (96.353 sec)\n",
      "INFO:tensorflow:global_step/sec: 1.03828\n",
      "INFO:tensorflow:loss = 0.6913993, step = 1501 (96.314 sec)\n",
      "INFO:tensorflow:global_step/sec: 1.03813\n",
      "INFO:tensorflow:loss = 0.6945034, step = 1601 (96.327 sec)\n",
      "INFO:tensorflow:global_step/sec: 1.0377\n",
      "INFO:tensorflow:loss = 0.6927892, step = 1701 (96.368 sec)\n",
      "INFO:tensorflow:Saving checkpoints for 1759 into C:\\Users\\solugate\\AppData\\Local\\Temp\\tmpwsoa_3ns\\model.ckpt.\n",
      "INFO:tensorflow:Loss for final step: 0.6923328.\n"
     ]
    },
    {
     "data": {
      "text/plain": [
       "<tensorflow_estimator.python.estimator.estimator.Estimator at 0x225086304a8>"
      ]
     },
     "execution_count": 20,
     "metadata": {},
     "output_type": "execute_result"
    }
   ],
   "source": [
    "char_cnn.train(input_fn=train_input_fn)"
   ]
  },
  {
   "cell_type": "code",
   "execution_count": 23,
   "metadata": {},
   "outputs": [
    {
     "name": "stdout",
     "output_type": "stream",
     "text": [
      "INFO:tensorflow:Calling model_fn.\n",
      "INFO:tensorflow:Done calling model_fn.\n",
      "WARNING:tensorflow:From c:\\users\\solugate\\anaconda3\\envs\\nlp\\lib\\site-packages\\tensorflow\\python\\ops\\metrics_impl.py:363: to_float (from tensorflow.python.ops.math_ops) is deprecated and will be removed in a future version.\n",
      "Instructions for updating:\n",
      "Use tf.cast instead.\n",
      "INFO:tensorflow:Starting evaluation at 2019-03-08T09:02:35Z\n",
      "INFO:tensorflow:Graph was finalized.\n",
      "WARNING:tensorflow:From c:\\users\\solugate\\anaconda3\\envs\\nlp\\lib\\site-packages\\tensorflow\\python\\training\\saver.py:1266: checkpoint_exists (from tensorflow.python.training.checkpoint_management) is deprecated and will be removed in a future version.\n",
      "Instructions for updating:\n",
      "Use standard file APIs to check for files with this prefix.\n",
      "INFO:tensorflow:Restoring parameters from C:\\Users\\solugate\\AppData\\Local\\Temp\\tmpwsoa_3ns\\model.ckpt-1759\n",
      "INFO:tensorflow:Running local_init_op.\n",
      "INFO:tensorflow:Done running local_init_op.\n",
      "INFO:tensorflow:Finished evaluation at 2019-03-08-09:02:43\n",
      "INFO:tensorflow:Saving dict for global step 1759: categorical_accuracy = 0.5164, global_step = 1759, loss = 0.6926784\n",
      "INFO:tensorflow:Saving 'checkpoint_path' summary for global step 1759: C:\\Users\\solugate\\AppData\\Local\\Temp\\tmpwsoa_3ns\\model.ckpt-1759\n"
     ]
    },
    {
     "data": {
      "text/plain": [
       "{'categorical_accuracy': 0.5164, 'loss': 0.6926784, 'global_step': 1759}"
      ]
     },
     "execution_count": 23,
     "metadata": {},
     "output_type": "execute_result"
    }
   ],
   "source": [
    "char_cnn.evaluate(input_fn=val_input_fn)"
   ]
  }
 ],
 "metadata": {
  "kernelspec": {
   "display_name": "Python 3",
   "language": "python",
   "name": "python3"
  },
  "language_info": {
   "codemirror_mode": {
    "name": "ipython",
    "version": 3
   },
   "file_extension": ".py",
   "mimetype": "text/x-python",
   "name": "python",
   "nbconvert_exporter": "python",
   "pygments_lexer": "ipython3",
   "version": "3.6.8"
  }
 },
 "nbformat": 4,
 "nbformat_minor": 2
}
